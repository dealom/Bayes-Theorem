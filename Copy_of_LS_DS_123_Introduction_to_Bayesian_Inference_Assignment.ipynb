{
  "cells": [
    {
      "cell_type": "markdown",
      "metadata": {
        "id": "H7OLbevlbd_Z"
      },
      "source": [
        "## The Knowledge House Data Science\n",
        "\n",
        "## Introduction to Bayesian Inference\n",
        "\n",
        "\n"
      ]
    },
    {
      "cell_type": "markdown",
      "metadata": {
        "id": "P-DzzRk5bf0z"
      },
      "source": [
        "## Lab Assignment - Code it up!\n",
        "\n",
        "We used pure math to apply Bayes Theorem to drug tests. Now write Python code to reproduce the results! This is purposefully open ended - you'll have to think about how you should represent probabilities and events. You can and should look things up.\n",
        "\n",
        "Specific goals/targets:\n",
        "\n",
        "### 1) Write a function \n",
        "\n",
        "`def prob_drunk_given_positive(prob_drunk_prior, false_positive_rate):` \n",
        "\n",
        "You should only truly need these two values in order to apply Bayes Theorem. In this example, imagine that individuals are taking a breathalyzer test with an 8% false positive rate, a 100% true positive rate, and that our prior belief about drunk driving in the population is 1/1000. \n",
        " - What is the probability that a person is drunk after one positive breathalyzer test?\n",
        " - What is the probability that a person is drunk after two positive breathalyzer tests?\n",
        " - How many positive breathalyzer tests are needed in order to have a probability that's greater than 95% that a person is drunk beyond the legal limit?\n",
        "\n",
        "### 2) Explore `scipy.stats.bayes_mvs`  \n",
        "Read its documentation, and experiment with it on data you've tested in other ways earlier this week.\n",
        " - Create a visualization comparing the results of a Bayesian approach to a traditional/frequentist approach. (with a large sample size they should look close to identical, however, take this opportunity to practice visualizing condfidence intervals in general. The following are some potential ways that you could visualize confidence intervals on your graph:\n",
        "  - [Matplotlib Error Bars](https://matplotlib.org/3.1.1/api/_as_gen/matplotlib.pyplot.errorbar.html)\n",
        "  - [Seaborn barplot with error bars](https://seaborn.pydata.org/generated/seaborn.barplot.html)\n",
        "  - [Vertical ines to show bounds of confidence interval](https://www.simplypsychology.org/confidence-interval.jpg)\n",
        "  - [Confidence Intervals on Box Plots](https://matplotlib.org/3.1.1/api/_as_gen/matplotlib.axes.Axes.boxplot.html)\n",
        "\n",
        "### 3) In your own words, summarize the difference between Bayesian and Frequentist statistics\n",
        "\n",
        "If you're unsure where to start, check out [this blog post of Bayes theorem with Python](https://dataconomy.com/2015/02/introduction-to-bayes-theorem-with-python/).\n",
        "\n"
      ]
    },
    {
      "cell_type": "markdown",
      "source": [
        "![image.png](data:image/png;base64,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)"
      ],
      "metadata": {
        "id": "ZMfejagKTDRx"
      }
    },
    {
      "cell_type": "code",
      "execution_count": null,
      "metadata": {
        "id": "xpVhZyUnbf7o",
        "colab": {
          "base_uri": "https://localhost:8080/"
        },
        "outputId": "65c2e301-bc5f-4db6-dafe-9d5e3f4f31e2"
      },
      "outputs": [
        {
          "output_type": "stream",
          "name": "stdout",
          "text": [
            "There is a 0.0124 chance a person is drunk after one positive breathalyzer test.\n"
          ]
        },
        {
          "output_type": "execute_result",
          "data": {
            "text/plain": [
              "0.012357884330202669"
            ]
          },
          "metadata": {},
          "execution_count": 2
        }
      ],
      "source": [
        "# https://thestatsninja.com/2019/03/03/how-to-decipher-false-positives-and-negatives-with-bayes-theorem/\n",
        "# What is the probability that a person is drunk after one positive breathalyzer test?\n",
        "\n",
        "# P(drunk|positive) = P(drunk)P(false positive RATE) all over P(drunk)P(false positive RATE) + P(not drunk)P(true positive RATE)\n",
        "# The probability of an event and its complement must equal 1 so this allows me to get the other 3 values in the above tree diagram and (1-prior) below\n",
        "# 'positive' is the common factor since thats the condition\n",
        "\n",
        "# given: 'an 8% false positive rate, a 100% true positive rate, and that our prior belief about drunk driving in the population is 1/1000.'\n",
        "# so there's 3 params (prior=.001,falsepos = .08, truepos = 1)\n",
        "\n",
        "def prob_drunk_given_positive(prob_drunk_prior, false_positive_rate, true_positive_rate):\n",
        "  numerator = true_positive_rate * prob_drunk_prior\n",
        "  denominator = true_positive_rate * prob_drunk_prior + false_positive_rate * (1 - prob_drunk_prior)\n",
        "  return numerator/denominator\n",
        "\n",
        "#(.001)(1) all over\n",
        "#(.001)(1) + (.999)(.08)\n",
        "\n",
        "test1 = prob_drunk_given_positive(.001,.08,1)\n",
        "print(f'There is a {round(test1,4)} chance a person is drunk after one positive breathalyzer test.')\n",
        "test1"
      ]
    },
    {
      "cell_type": "code",
      "source": [
        "# What is the probability that a person is drunk after two positive breathalyzer tests?\n",
        "# 'prior' param changes after each test because the probability changes over time, given new data \n",
        "\n",
        "test2 = prob_drunk_given_positive(test1,.08,1)\n",
        "print(f'There is a {round(test2,4)} chance a person is drunk after two positive breathalyzer tests.')\n",
        "test2"
      ],
      "metadata": {
        "colab": {
          "base_uri": "https://localhost:8080/"
        },
        "id": "Gknjz0jeH5j9",
        "outputId": "fcb9678c-79b3-4935-c868-3ac240f1bdfa"
      },
      "execution_count": null,
      "outputs": [
        {
          "output_type": "stream",
          "name": "stdout",
          "text": [
            "There is a 0.1353 chance a person is drunk after two positive breathalyzer tests.\n"
          ]
        },
        {
          "output_type": "execute_result",
          "data": {
            "text/plain": [
              "0.13525210993291495"
            ]
          },
          "metadata": {},
          "execution_count": 3
        }
      ]
    },
    {
      "cell_type": "code",
      "source": [
        "# How many positive breathalyzer tests are needed in order to have a probability that's greater than 95% that a person is drunk beyond the legal limit?\n",
        "# A while loop is used to keep running tests until probability is greater than 95% and to keep track of how many tests that takes.\n",
        "count = 0\n",
        "prior = .001\n",
        "\n",
        "while prior<=.95:\n",
        "  prior = prob_drunk_given_positive(prior,.08,1)\n",
        "  count+=1\n",
        "\n",
        "print(f'{count} tests are needed for probability to be greater than 95%.')\n",
        "print(f'There is a {round(prior,4)} chance a person is drunk after {count} positive breathalyzer tests')"
      ],
      "metadata": {
        "colab": {
          "base_uri": "https://localhost:8080/"
        },
        "id": "j2c1IdzAKq94",
        "outputId": "ec9380a8-a649-4d68-afb0-50d36c99406d"
      },
      "execution_count": null,
      "outputs": [
        {
          "output_type": "stream",
          "name": "stdout",
          "text": [
            "4 tests are needed for probability to be greater than 95%.\n",
            "There is a 0.9607 chance a person is drunk after 4 positive breathalyzer tests\n"
          ]
        }
      ]
    },
    {
      "cell_type": "code",
      "source": [
        "# Extra\n",
        "prior = .001\n",
        "for count in range(1,11):\n",
        "  prior = prob_drunk_given_positive(prior,.08,1)\n",
        "  print(f'There is a {round(prior,8)} chance a person is drunk after {count} positive breathalyzer test(s).')"
      ],
      "metadata": {
        "colab": {
          "base_uri": "https://localhost:8080/"
        },
        "id": "Noc0NaIEcpzP",
        "outputId": "4e39c5fb-e217-4709-e9ce-3d1c9e3eba7b"
      },
      "execution_count": null,
      "outputs": [
        {
          "output_type": "stream",
          "name": "stdout",
          "text": [
            "There is a 0.01235788 chance a person is drunk after 1 positive breathalyzer test(s).\n",
            "There is a 0.13525211 chance a person is drunk after 2 positive breathalyzer test(s).\n",
            "There is a 0.6615997 chance a person is drunk after 3 positive breathalyzer test(s).\n",
            "There is a 0.96068951 chance a person is drunk after 4 positive breathalyzer test(s).\n",
            "There is a 0.99673716 chance a person is drunk after 5 positive breathalyzer test(s).\n",
            "There is a 0.99973819 chance a person is drunk after 6 positive breathalyzer test(s).\n",
            "There is a 0.99997905 chance a person is drunk after 7 positive breathalyzer test(s).\n",
            "There is a 0.99999832 chance a person is drunk after 8 positive breathalyzer test(s).\n",
            "There is a 0.99999987 chance a person is drunk after 9 positive breathalyzer test(s).\n",
            "There is a 0.99999999 chance a person is drunk after 10 positive breathalyzer test(s).\n"
          ]
        }
      ]
    },
    {
      "cell_type": "markdown",
      "metadata": {
        "id": "uWgWjp3PQ3Sq"
      },
      "source": [
        "## Resources"
      ]
    },
    {
      "cell_type": "markdown",
      "metadata": {
        "id": "QRgHqmYIQ9qn"
      },
      "source": [
        "- [Worked example of Bayes rule calculation](https://en.wikipedia.org/wiki/Bayes'_theorem#Examples) (helpful as it fully breaks out the denominator)\n",
        "- [Source code for mvsdist in scipy](https://github.com/scipy/scipy/blob/90534919e139d2a81c24bf08341734ff41a3db12/scipy/stats/morestats.py#L139)"
      ]
    }
  ],
  "metadata": {
    "colab": {
      "name": "Copy of LS_DS_123_Introduction_to_Bayesian_Inference_Assignment.ipynb",
      "provenance": []
    },
    "kernelspec": {
      "display_name": "Python 3",
      "language": "python",
      "name": "python3"
    },
    "language_info": {
      "codemirror_mode": {
        "name": "ipython",
        "version": 3
      },
      "file_extension": ".py",
      "mimetype": "text/x-python",
      "name": "python",
      "nbconvert_exporter": "python",
      "pygments_lexer": "ipython3",
      "version": "3.7.4"
    }
  },
  "nbformat": 4,
  "nbformat_minor": 0
}